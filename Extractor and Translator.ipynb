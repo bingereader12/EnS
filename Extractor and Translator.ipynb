{
 "cells": [
  {
   "cell_type": "code",
   "execution_count": 3,
   "id": "4d9b0258",
   "metadata": {},
   "outputs": [
    {
     "name": "stdout",
     "output_type": "stream",
     "text": [
      "<PIL.PngImagePlugin.PngImageFile image mode=RGBA size=793x157 at 0x28369A54CD0>\n",
      "Completing an online course is no simple endeavor. It requires time, dedication, and\n",
      "commitment, so when we say “Congratulations” - we mean it! Take a moment to reflect on\n",
      "your hard work and enjoy your completion of Organic Solar Cells - Theory and Practice.\n",
      "\n",
      "You've earned it.\n",
      "\n",
      "La complétion d'un cours en ligne n'est pas une entreprise simple.Il faut du temps, du dévouement et\n",
      "Engagement, alors quand on dit \"Félicitations\" - on entend ça!Prendre un moment pour réfléchir sur\n",
      "Votre travail acharné et profitez de votre achèvement de cellules solaires biologiques - théorie et pratique.\n",
      "\n",
      "Tu l'as mérité.\n"
     ]
    }
   ],
   "source": [
    "# import the following libraries\n",
    "# will convert the image to text string\n",
    "import pytesseract\t\n",
    "# adds image processing capabilities\n",
    "from PIL import Image\t\n",
    "\n",
    "# converts the text to speech\n",
    "import pyttsx3\t\t\n",
    "\n",
    "#translates into the mentioned language\n",
    "from googletrans import Translator\t\n",
    "\n",
    "# opening an image from the source path\n",
    "img = Image.open(r'C:\\Users\\jain4\\OneDrive\\Pictures\\text1.png')\t\n",
    "\n",
    "# describes image format in the output\n",
    "print(img)\t\t\t\t\t\t\n",
    "# path where the tesseract module is installed\n",
    "pytesseract.pytesseract.tesseract_cmd =r'C:\\Program Files\\Tesseract-OCR\\tesseract.exe'\n",
    "# converts the image to result and saves it into result variable\n",
    "result = pytesseract.image_to_string(img)\n",
    "# write text in a text file and save it to source path\n",
    "with open('abc.txt',mode ='w') as file:\t\n",
    "\t\n",
    "\t\t\t\tfile.write(result)\n",
    "\t\t\t\tprint(result)\n",
    "\t\t\t\t\n",
    "Translate = Translator()\t\t\t\t\t\n",
    "# translates the text into german language\n",
    "y = Translate.translate(result,dest='french')\t\n",
    "print(y.text)\n",
    "engine = pyttsx3.init()\n",
    "  \n",
    "# an audio will be played which speaks the test if pyttsx3 recognizes it\n",
    "engine.say(y.text)                             \n",
    "engine.runAndWait()"
   ]
  },
  {
   "cell_type": "code",
   "execution_count": null,
   "id": "745b804a",
   "metadata": {},
   "outputs": [],
   "source": []
  }
 ],
 "metadata": {
  "kernelspec": {
   "display_name": "Python 3 (ipykernel)",
   "language": "python",
   "name": "python3"
  },
  "language_info": {
   "codemirror_mode": {
    "name": "ipython",
    "version": 3
   },
   "file_extension": ".py",
   "mimetype": "text/x-python",
   "name": "python",
   "nbconvert_exporter": "python",
   "pygments_lexer": "ipython3",
   "version": "3.9.7"
  }
 },
 "nbformat": 4,
 "nbformat_minor": 5
}
